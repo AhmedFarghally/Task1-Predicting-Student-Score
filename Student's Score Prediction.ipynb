{
 "cells": [
  {
   "cell_type": "markdown",
   "id": "e7690e35",
   "metadata": {},
   "source": [
    "# Task 1:  Predicting the percentage of student marks (Score).\n",
    "## Author: Ahmed Farghally Mayser.\n",
    "\n",
    "### Table of Contents:\n",
    "\n",
    "- [Introduction](#Introduction)\n",
    "- [Preparing data](#Data_Preprocessing)\n",
    "- [Training the model](#Traning_the_model)\n",
    "- [Model predictions](#Model_predictions)\n",
    "- [Model evaluation](#Model_evaluation)\n",
    "- [Conclusion](#Conclusion)"
   ]
  },
  {
   "cell_type": "markdown",
   "id": "6d9bb60a",
   "metadata": {},
   "source": [
    "<a id='Introduction'></a>\n",
    "### Introduction\n",
    "In this task we will predict the percentage of marks that a student is expected to score based upon the number of hours they studied. This is a simple linear regression task as it involves just two variables."
   ]
  },
  {
   "cell_type": "code",
   "execution_count": 75,
   "id": "46664df8",
   "metadata": {},
   "outputs": [],
   "source": [
    "# Importing all libraries required\n",
    "import pandas as pd\n",
    "import numpy as np  \n",
    "import seaborn as sns\n",
    "import matplotlib.pyplot as plt  \n",
    "%matplotlib inline"
   ]
  },
  {
   "cell_type": "code",
   "execution_count": 76,
   "id": "82931867",
   "metadata": {},
   "outputs": [
    {
     "name": "stdout",
     "output_type": "stream",
     "text": [
      "Data imported successfully\n"
     ]
    },
    {
     "data": {
      "text/html": [
       "<div>\n",
       "<style scoped>\n",
       "    .dataframe tbody tr th:only-of-type {\n",
       "        vertical-align: middle;\n",
       "    }\n",
       "\n",
       "    .dataframe tbody tr th {\n",
       "        vertical-align: top;\n",
       "    }\n",
       "\n",
       "    .dataframe thead th {\n",
       "        text-align: right;\n",
       "    }\n",
       "</style>\n",
       "<table border=\"1\" class=\"dataframe\">\n",
       "  <thead>\n",
       "    <tr style=\"text-align: right;\">\n",
       "      <th></th>\n",
       "      <th>Hours</th>\n",
       "      <th>Scores</th>\n",
       "    </tr>\n",
       "  </thead>\n",
       "  <tbody>\n",
       "    <tr>\n",
       "      <th>0</th>\n",
       "      <td>2.5</td>\n",
       "      <td>21</td>\n",
       "    </tr>\n",
       "    <tr>\n",
       "      <th>1</th>\n",
       "      <td>5.1</td>\n",
       "      <td>47</td>\n",
       "    </tr>\n",
       "    <tr>\n",
       "      <th>2</th>\n",
       "      <td>3.2</td>\n",
       "      <td>27</td>\n",
       "    </tr>\n",
       "    <tr>\n",
       "      <th>3</th>\n",
       "      <td>8.5</td>\n",
       "      <td>75</td>\n",
       "    </tr>\n",
       "    <tr>\n",
       "      <th>4</th>\n",
       "      <td>3.5</td>\n",
       "      <td>30</td>\n",
       "    </tr>\n",
       "  </tbody>\n",
       "</table>\n",
       "</div>"
      ],
      "text/plain": [
       "   Hours  Scores\n",
       "0    2.5      21\n",
       "1    5.1      47\n",
       "2    3.2      27\n",
       "3    8.5      75\n",
       "4    3.5      30"
      ]
     },
     "execution_count": 76,
     "metadata": {},
     "output_type": "execute_result"
    }
   ],
   "source": [
    "# Reading data from remote link\n",
    "url = \"http://bit.ly/w-data\"\n",
    "df = pd.read_csv(url)\n",
    "print(\"Data imported successfully\") # Just a check if the data imported successfully or not.\n",
    "\n",
    "df.head(5)"
   ]
  },
  {
   "cell_type": "markdown",
   "id": "28303e0b",
   "metadata": {},
   "source": [
    "**Let's use seaborn library to visualize our data and see the relationship between the variables.**"
   ]
  },
  {
   "cell_type": "code",
   "execution_count": 77,
   "id": "03cbbc5b",
   "metadata": {},
   "outputs": [
    {
     "data": {
      "image/png": "[encoded data removed]",
      "text/plain": [
       "<Figure size 432x288 with 1 Axes>"
      ]
     },
     "metadata": {
      "needs_background": "light"
     },
     "output_type": "display_data"
    }
   ],
   "source": [
    "sns.scatterplot(x= df.Hours, y=df.Scores)\n",
    "plt.title('Hours vs Percentage')  \n",
    "plt.xlabel('Hours Studied')  \n",
    "plt.ylabel('Percentage Score')  \n",
    "plt.show()"
   ]
  },
  {
   "cell_type": "markdown",
   "id": "26ce0612",
   "metadata": {},
   "source": [
    "- From the graph above, we can clearly see that there is a positive linear relation between the number of hours studied and percentage of score."
   ]
  },
  {
   "cell_type": "markdown",
   "id": "3321bedc",
   "metadata": {},
   "source": [
    "<a id='Data_Preprocessing'></a>\n",
    "### Preparing data"
   ]
  },
  {
   "cell_type": "markdown",
   "id": "1cf479a2",
   "metadata": {},
   "source": [
    "**Now we will divide our data to an independent feature and a target feature**"
   ]
  },
  {
   "cell_type": "code",
   "execution_count": 78,
   "id": "500633ca",
   "metadata": {},
   "outputs": [],
   "source": [
    "X = df.iloc[:, :-1].values  # Independent feature\n",
    "y = df.iloc[:, 1].values    # Target feature"
   ]
  },
  {
   "cell_type": "markdown",
   "id": "38d5faa7",
   "metadata": {},
   "source": [
    "**Let's split our data into training and test sets using Scikit-Learn's built-in train_test_split() method:**"
   ]
  },
  {
   "cell_type": "code",
   "execution_count": 79,
   "id": "0f377c58",
   "metadata": {},
   "outputs": [],
   "source": [
    "from sklearn.model_selection import train_test_split  "
   ]
  },
  {
   "cell_type": "code",
   "execution_count": 80,
   "id": "09a6d45f",
   "metadata": {},
   "outputs": [],
   "source": [
    "X_train, X_test, y_train, y_test = train_test_split(X, y, train_size=0.8, random_state = 0) "
   ]
  },
  {
   "cell_type": "markdown",
   "id": "bae31258",
   "metadata": {},
   "source": [
    "<a id='Traning_the_model'></a>\n",
    "### Training the model"
   ]
  },
  {
   "cell_type": "code",
   "execution_count": 81,
   "id": "05cff029",
   "metadata": {},
   "outputs": [],
   "source": [
    "from sklearn.linear_model import LinearRegression  "
   ]
  },
  {
   "cell_type": "code",
   "execution_count": 82,
   "id": "78c61aff",
   "metadata": {},
   "outputs": [
    {
     "name": "stdout",
     "output_type": "stream",
     "text": [
      "Training complete.\n"
     ]
    }
   ],
   "source": [
    "# let's fit our model to the data\n",
    "LR = LinearRegression()  \n",
    "LR.fit(X_train, y_train) \n",
    "\n",
    "print(\"Training complete.\")"
   ]
  },
  {
   "cell_type": "markdown",
   "id": "a4358e1a",
   "metadata": {},
   "source": [
    "**Let's plot regression line**"
   ]
  },
  {
   "cell_type": "code",
   "execution_count": 83,
   "id": "13f7c221",
   "metadata": {},
   "outputs": [
    {
     "data": {
      "image/png": "[encoded data removed]",
      "text/plain": [
       "<Figure size 432x288 with 1 Axes>"
      ]
     },
     "metadata": {
      "needs_background": "light"
     },
     "output_type": "display_data"
    }
   ],
   "source": [
    "# Plotting the regression line\n",
    "line = (LR.coef_* X) + LR.intercept_\n",
    "\n",
    "# Plotting for the test data\n",
    "plt.scatter(X, y)\n",
    "plt.plot(X, line)\n",
    "plt.title('Hours vs Percentage')  \n",
    "plt.xlabel('Hours Studied')  \n",
    "plt.ylabel('Percentage Score')  \n",
    "plt.show()"
   ]
  },
  {
   "cell_type": "markdown",
   "id": "045f7b7a",
   "metadata": {},
   "source": [
    "<a id='Model_predictions'></a>\n",
    "### Model predictions"
   ]
  },
  {
   "cell_type": "code",
   "execution_count": 84,
   "id": "953def48",
   "metadata": {},
   "outputs": [
    {
     "data": {
      "text/plain": [
       "array([16.88414476, 33.73226078, 75.357018  , 26.79480124, 60.49103328])"
      ]
     },
     "execution_count": 84,
     "metadata": {},
     "output_type": "execute_result"
    }
   ],
   "source": [
    "y_pred = LR.predict(X_test) # Predicting the scores\n",
    "y_pred"
   ]
  },
  {
   "cell_type": "code",
   "execution_count": 85,
   "id": "e5667f3c",
   "metadata": {},
   "outputs": [
    {
     "data": {
      "text/html": [
       "<div>\n",
       "<style scoped>\n",
       "    .dataframe tbody tr th:only-of-type {\n",
       "        vertical-align: middle;\n",
       "    }\n",
       "\n",
       "    .dataframe tbody tr th {\n",
       "        vertical-align: top;\n",
       "    }\n",
       "\n",
       "    .dataframe thead th {\n",
       "        text-align: right;\n",
       "    }\n",
       "</style>\n",
       "<table border=\"1\" class=\"dataframe\">\n",
       "  <thead>\n",
       "    <tr style=\"text-align: right;\">\n",
       "      <th></th>\n",
       "      <th>Actual score</th>\n",
       "      <th>Predicted score</th>\n",
       "    </tr>\n",
       "  </thead>\n",
       "  <tbody>\n",
       "    <tr>\n",
       "      <th>0</th>\n",
       "      <td>20</td>\n",
       "      <td>16.884145</td>\n",
       "    </tr>\n",
       "    <tr>\n",
       "      <th>1</th>\n",
       "      <td>27</td>\n",
       "      <td>33.732261</td>\n",
       "    </tr>\n",
       "    <tr>\n",
       "      <th>2</th>\n",
       "      <td>69</td>\n",
       "      <td>75.357018</td>\n",
       "    </tr>\n",
       "    <tr>\n",
       "      <th>3</th>\n",
       "      <td>30</td>\n",
       "      <td>26.794801</td>\n",
       "    </tr>\n",
       "    <tr>\n",
       "      <th>4</th>\n",
       "      <td>62</td>\n",
       "      <td>60.491033</td>\n",
       "    </tr>\n",
       "  </tbody>\n",
       "</table>\n",
       "</div>"
      ],
      "text/plain": [
       "   Actual score  Predicted score\n",
       "0            20        16.884145\n",
       "1            27        33.732261\n",
       "2            69        75.357018\n",
       "3            30        26.794801\n",
       "4            62        60.491033"
      ]
     },
     "execution_count": 85,
     "metadata": {},
     "output_type": "execute_result"
    }
   ],
   "source": [
    "# Comparing Actual resu;ts to Predicted results\n",
    "compare = pd.DataFrame({'Actual score': y_test, 'Predicted score': y_pred})  \n",
    "compare "
   ]
  },
  {
   "cell_type": "markdown",
   "id": "8a82d363",
   "metadata": {},
   "source": [
    "**Let's try a prediction example:**"
   ]
  },
  {
   "cell_type": "code",
   "execution_count": 89,
   "id": "39244fcc",
   "metadata": {},
   "outputs": [
    {
     "name": "stdout",
     "output_type": "stream",
     "text": [
      "Number of Hours = 8.0\n",
      "Predicted Score = 81.30341188657258\n"
     ]
    }
   ],
   "source": [
    "hours = 8.0\n",
    "prediction = LR.predict([[hours]])\n",
    "print(\"Number of Hours = {}\".format(hours))\n",
    "print(\"Predicted Score = {}\".format(prediction[0]))"
   ]
  },
  {
   "cell_type": "markdown",
   "id": "fd2b9237",
   "metadata": {},
   "source": [
    "<a id='Model_evaluation'></a>\n",
    "### Model evaluation"
   ]
  },
  {
   "cell_type": "markdown",
   "id": "ee9ec760",
   "metadata": {},
   "source": [
    "**Let's check the performane of the model by computing the accuracy**"
   ]
  },
  {
   "cell_type": "code",
   "execution_count": 90,
   "id": "31bc2adb",
   "metadata": {},
   "outputs": [],
   "source": [
    "model_accuracy = LR.score(X_test, y_test)"
   ]
  },
  {
   "cell_type": "code",
   "execution_count": 91,
   "id": "5687150c",
   "metadata": {},
   "outputs": [
    {
     "data": {
      "text/plain": [
       "0.9454906892105354"
      ]
     },
     "execution_count": 91,
     "metadata": {},
     "output_type": "execute_result"
    }
   ],
   "source": [
    "model_accuracy"
   ]
  },
  {
   "cell_type": "markdown",
   "id": "e8d25d33",
   "metadata": {},
   "source": [
    "<a id='Conclusion'></a>\n",
    "### Conclusion\n",
    "- **Simple Linear Regression is a type of Regression algorithms that models the relationship between a dependent variable and a single independent variable**\n",
    "- **After using the linear regression model we got an accuracy of 94%, which is considered very good in this case.**"
   ]
  },
  {
   "cell_type": "code",
   "execution_count": null,
   "id": "cc8456b4",
   "metadata": {},
   "outputs": [],
   "source": []
  }
 ],
 "metadata": {
  "kernelspec": {
   "display_name": "Python 3 (ipykernel)",
   "language": "python",
   "name": "python3"
  },
  "language_info": {
   "codemirror_mode": {
    "name": "ipython",
    "version": 3
   },
   "file_extension": ".py",
   "mimetype": "text/x-python",
   "name": "python",
   "nbconvert_exporter": "python",
   "pygments_lexer": "ipython3",
   "version": "3.9.12"
  }
 },
 "nbformat": 4,
 "nbformat_minor": 5
}
